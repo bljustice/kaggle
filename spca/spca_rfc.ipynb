{
 "cells": [
  {
   "cell_type": "code",
   "execution_count": 1,
   "metadata": {},
   "outputs": [
    {
     "name": "stderr",
     "output_type": "stream",
     "text": [
      "C:\\Users\\Blake\\Anaconda3\\lib\\site-packages\\sklearn\\cross_validation.py:44: DeprecationWarning: This module was deprecated in version 0.18 in favor of the model_selection module into which all the refactored classes and functions are moved. Also note that the interface of the new CV iterators are different from that of this module. This module will be removed in 0.20.\n",
      "  \"This module will be removed in 0.20.\", DeprecationWarning)\n",
      "C:\\Users\\Blake\\Anaconda3\\lib\\site-packages\\sklearn\\grid_search.py:43: DeprecationWarning: This module was deprecated in version 0.18 in favor of the model_selection module into which all the refactored classes and functions are moved. This module will be removed in 0.20.\n",
      "  DeprecationWarning)\n"
     ]
    }
   ],
   "source": [
    "import pandas as pd\n",
    "import numpy as np\n",
    "import matplotlib.pyplot as plt\n",
    "import seaborn as sns\n",
    "from sklearn.preprocessing import LabelEncoder\n",
    "from sklearn.model_selection import train_test_split\n",
    "from sklearn.ensemble import RandomForestClassifier\n",
    "from sklearn.grid_search import GridSearchCV\n",
    "from sklearn.decomposition import PCA\n",
    "from sklearn.pipeline import Pipeline\n",
    "from sklearn.metrics import log_loss\n",
    "%matplotlib inline"
   ]
  },
  {
   "cell_type": "code",
   "execution_count": 2,
   "metadata": {
    "collapsed": true
   },
   "outputs": [],
   "source": [
    "train_df = pd.read_csv('./data/train.csv')\n",
    "test_df = pd.read_csv('./data/test.csv')"
   ]
  },
  {
   "cell_type": "code",
   "execution_count": 3,
   "metadata": {},
   "outputs": [
    {
     "name": "stdout",
     "output_type": "stream",
     "text": [
      "(26729, 10)\n",
      "(11456, 8)\n"
     ]
    }
   ],
   "source": [
    "print(train_df.shape)\n",
    "print(test_df.shape)"
   ]
  },
  {
   "cell_type": "code",
   "execution_count": 4,
   "metadata": {
    "collapsed": true
   },
   "outputs": [],
   "source": [
    "test_df.rename(columns={'ID': 'AnimalID'}, inplace=True)"
   ]
  },
  {
   "cell_type": "code",
   "execution_count": 5,
   "metadata": {},
   "outputs": [
    {
     "data": {
      "text/plain": [
       "AnimalID              0\n",
       "Name               7691\n",
       "DateTime              0\n",
       "OutcomeType           0\n",
       "OutcomeSubtype    13612\n",
       "AnimalType            0\n",
       "SexuponOutcome        1\n",
       "AgeuponOutcome       18\n",
       "Breed                 0\n",
       "Color                 0\n",
       "dtype: int64"
      ]
     },
     "execution_count": 5,
     "metadata": {},
     "output_type": "execute_result"
    }
   ],
   "source": [
    "train_df.isnull().sum()"
   ]
  },
  {
   "cell_type": "code",
   "execution_count": 6,
   "metadata": {
    "collapsed": true
   },
   "outputs": [],
   "source": [
    "combined_df = pd.concat([train_df, test_df])"
   ]
  },
  {
   "cell_type": "code",
   "execution_count": 7,
   "metadata": {},
   "outputs": [
    {
     "data": {
      "text/plain": [
       "AgeuponOutcome       24\n",
       "AnimalID              0\n",
       "AnimalType            0\n",
       "Breed                 0\n",
       "Color                 0\n",
       "DateTime              0\n",
       "Name              10916\n",
       "OutcomeSubtype    25068\n",
       "OutcomeType       11456\n",
       "SexuponOutcome        1\n",
       "dtype: int64"
      ]
     },
     "execution_count": 7,
     "metadata": {},
     "output_type": "execute_result"
    }
   ],
   "source": [
    "combined_df.isnull().sum()"
   ]
  },
  {
   "cell_type": "code",
   "execution_count": 8,
   "metadata": {
    "collapsed": true
   },
   "outputs": [],
   "source": [
    "import re\n",
    "def convert_age(row):\n",
    "    to_years = int(re.search('\\d+', str(row)).group()) if re.search('\\d+', str(row)) else None\n",
    "    if 'year' in str(row):\n",
    "        return to_years\n",
    "    elif 'month' in str(row) or 'months' in str(row):\n",
    "        return round(to_years / 12, 2)\n",
    "    elif 'day' in str(row) or 'days' in str(row):\n",
    "        return round(to_years / 365, 2)\n",
    "    elif 'week' in str(row) or 'weeks' in str(row):\n",
    "        return round(to_years / 52, 2)"
   ]
  },
  {
   "cell_type": "code",
   "execution_count": 9,
   "metadata": {
    "collapsed": true
   },
   "outputs": [],
   "source": [
    "def fill_null_vals(df):\n",
    "    df.AgeuponOutcome = df.AgeuponOutcome.apply(convert_age)\n",
    "    df.loc[df.AgeuponOutcome.isnull(), 'AgeuponOutcome'] = df.loc[~df.AgeuponOutcome.isnull(), 'AgeuponOutcome'].median()\n",
    "    df.loc[df.Name.isnull(), 'Name'] = 'no name'\n",
    "    df.loc[df.OutcomeSubtype.isnull(), 'OutcomeSubtype'] = 'no subtype'\n",
    "    df.loc[combined_df.SexuponOutcome.isnull(), 'SexuponOutcome'] = 'Neutered Male'\n",
    "    return df"
   ]
  },
  {
   "cell_type": "code",
   "execution_count": 10,
   "metadata": {
    "collapsed": true
   },
   "outputs": [],
   "source": [
    "combined_df = fill_null_vals(combined_df)"
   ]
  },
  {
   "cell_type": "code",
   "execution_count": 11,
   "metadata": {
    "collapsed": true
   },
   "outputs": [],
   "source": [
    "combined_df['AgeCategory'] = pd.cut(combined_df.AgeuponOutcome, 5)"
   ]
  },
  {
   "cell_type": "code",
   "execution_count": 12,
   "metadata": {
    "collapsed": true
   },
   "outputs": [],
   "source": [
    "combined_df.Breed = combined_df.Breed.str.lower().str.strip()"
   ]
  },
  {
   "cell_type": "code",
   "execution_count": 13,
   "metadata": {
    "collapsed": true
   },
   "outputs": [],
   "source": [
    "combined_df['IsMix'] = combined_df.Breed.str.contains('mix').map({True: 1.0, False: 0.0})\n",
    "combined_df['IsPitbull'] = combined_df.Breed.str.contains('pit ?bull').map({True: 1.0, False: 0.0})\n",
    "combined_df['IsShorthair'] = combined_df.Breed.str.contains('short ?hair').map({True: 1.0, False: 0.0})\n",
    "combined_df['IsChihuahua'] = combined_df.Breed.str.contains('chihuahua').map({True: 1.0, False: 0.0})\n",
    "combined_df['IsRetriever'] = combined_df.Breed.str.contains('retriever').map({True: 1.0, False: 0.0})\n",
    "combined_df['IsLabrador'] = combined_df.Breed.str.contains('labrador').map({True: 1.0, False: 0.0})"
   ]
  },
  {
   "cell_type": "code",
   "execution_count": 14,
   "metadata": {
    "collapsed": true
   },
   "outputs": [],
   "source": [
    "combined_df.Color = combined_df.Color.str.lower().str.strip()"
   ]
  },
  {
   "cell_type": "code",
   "execution_count": 15,
   "metadata": {
    "collapsed": true
   },
   "outputs": [],
   "source": [
    "combined_df['IsBrown'] = combined_df.Color.str.contains('brown').map({True: 1.0, False: 0.0})\n",
    "combined_df['IsTabby'] = combined_df.Color.str.contains('tabby').map({True: 1.0, False: 0.0})\n",
    "combined_df['IsBlack/White'] = combined_df.Color.str.contains('black\\/white').map({True: 1.0, False: 0.0})\n",
    "combined_df['IsBlack'] = combined_df.Color.str.contains('black').map({True: 1.0, False: 0.0})\n",
    "combined_df['IsTabby/White'] = combined_df.Color.str.contains('tabby\\/white').map({True: 1.0, False: 0.0})\n",
    "combined_df['IsBlue'] = combined_df.Color.str.contains('blue').map({True: 1.0, False: 0.0})\n",
    "combined_df['IsOrange'] = combined_df.Color.str.contains('orange').map({True: 1.0, False: 0.0})\n",
    "combined_df['IsWhite'] = combined_df.Color.str.contains('white').map({True: 1.0, False: 0.0})\n",
    "combined_df['IsBrown/White'] = combined_df.Color.str.contains('brown\\/white').map({True: 1.0, False: 0.0})"
   ]
  },
  {
   "cell_type": "code",
   "execution_count": 16,
   "metadata": {
    "collapsed": true
   },
   "outputs": [],
   "source": [
    "combined_df.drop(['Breed', 'Color'], axis=1, inplace=True)\n",
    "#drop breed\n",
    "#drop color"
   ]
  },
  {
   "cell_type": "code",
   "execution_count": 17,
   "metadata": {
    "collapsed": true
   },
   "outputs": [],
   "source": [
    "combined_df = pd.get_dummies(combined_df, columns=['OutcomeSubtype', 'SexuponOutcome', 'AgeCategory', 'AnimalType'])"
   ]
  },
  {
   "cell_type": "code",
   "execution_count": 18,
   "metadata": {
    "collapsed": true
   },
   "outputs": [],
   "source": [
    "from collections import Counter\n",
    "top_names = '|'.join(map(lambda x: x[0], sorted(Counter(train_df.Name.str.lower().str.strip()).items(), \n",
    "                                key=lambda x: x[1], reverse=True)[1:101]))"
   ]
  },
  {
   "cell_type": "code",
   "execution_count": 19,
   "metadata": {
    "collapsed": true
   },
   "outputs": [],
   "source": [
    "combined_df['IsTopName'] = combined_df.Name.str.lower().str.strip().str.contains(top_names).map({True: 1.0, False: 0.0})"
   ]
  },
  {
   "cell_type": "code",
   "execution_count": 20,
   "metadata": {
    "collapsed": true
   },
   "outputs": [],
   "source": [
    "combined_df.drop('Name', axis=1, inplace=True)"
   ]
  },
  {
   "cell_type": "code",
   "execution_count": 21,
   "metadata": {
    "collapsed": true
   },
   "outputs": [],
   "source": [
    "combined_df.drop(['AnimalID', 'AgeuponOutcome'], axis=1, inplace=True)"
   ]
  },
  {
   "cell_type": "code",
   "execution_count": 22,
   "metadata": {
    "collapsed": true
   },
   "outputs": [],
   "source": [
    "datetime_df = combined_df.DateTime.astype(str).str.replace(' .*', '').str.split(\"-\", expand=True)\n",
    "datetime_df.columns = ['Year', 'Month', 'Day']"
   ]
  },
  {
   "cell_type": "code",
   "execution_count": 23,
   "metadata": {
    "collapsed": true
   },
   "outputs": [],
   "source": [
    "combined_df = pd.get_dummies(pd.concat([combined_df, datetime_df], axis=1), columns=['Year', 'Month', 'Day'])"
   ]
  },
  {
   "cell_type": "code",
   "execution_count": 24,
   "metadata": {
    "collapsed": true
   },
   "outputs": [],
   "source": [
    "combined_df.drop(['DateTime'], axis=1, inplace=True)"
   ]
  },
  {
   "cell_type": "code",
   "execution_count": 25,
   "metadata": {},
   "outputs": [
    {
     "data": {
      "text/plain": [
       "(38185, 93)"
      ]
     },
     "execution_count": 25,
     "metadata": {},
     "output_type": "execute_result"
    }
   ],
   "source": [
    "combined_df.shape"
   ]
  },
  {
   "cell_type": "code",
   "execution_count": 26,
   "metadata": {},
   "outputs": [
    {
     "name": "stderr",
     "output_type": "stream",
     "text": [
      "C:\\Users\\Blake\\Anaconda3\\lib\\site-packages\\pandas\\core\\generic.py:2701: SettingWithCopyWarning: \n",
      "A value is trying to be set on a copy of a slice from a DataFrame.\n",
      "Try using .loc[row_indexer,col_indexer] = value instead\n",
      "\n",
      "See the caveats in the documentation: http://pandas.pydata.org/pandas-docs/stable/indexing.html#indexing-view-versus-copy\n",
      "  self[name] = value\n"
     ]
    }
   ],
   "source": [
    "train_df = combined_df[:26729]\n",
    "test_df = combined_df[26729:]\n",
    "train_df.OutcomeType = LabelEncoder().fit_transform(train_df.OutcomeType)"
   ]
  },
  {
   "cell_type": "code",
   "execution_count": 27,
   "metadata": {
    "collapsed": true
   },
   "outputs": [],
   "source": [
    "y = train_df.OutcomeType\n",
    "X = train_df.ix[:, filter(lambda x: x != 'OutcomeType', train_df.columns)]"
   ]
  },
  {
   "cell_type": "code",
   "execution_count": 28,
   "metadata": {
    "collapsed": true
   },
   "outputs": [],
   "source": [
    "X_train, X_test, y_train, y_test = train_test_split(X, y, test_size=0.2, random_state=42)"
   ]
  },
  {
   "cell_type": "code",
   "execution_count": 29,
   "metadata": {},
   "outputs": [
    {
     "data": {
      "text/plain": [
       "RandomForestClassifier(bootstrap=True, class_weight=None, criterion='gini',\n",
       "            max_depth=None, max_features='auto', max_leaf_nodes=None,\n",
       "            min_impurity_split=1e-07, min_samples_leaf=1,\n",
       "            min_samples_split=2, min_weight_fraction_leaf=0.0,\n",
       "            n_estimators=500, n_jobs=1, oob_score=False, random_state=42,\n",
       "            verbose=0, warm_start=False)"
      ]
     },
     "execution_count": 29,
     "metadata": {},
     "output_type": "execute_result"
    }
   ],
   "source": [
    "rfc = RandomForestClassifier(n_estimators=500, random_state=42)\n",
    "rfc.fit(X_train, y_train)"
   ]
  },
  {
   "cell_type": "code",
   "execution_count": 30,
   "metadata": {
    "collapsed": true
   },
   "outputs": [],
   "source": [
    "preds = rfc.predict_proba(X_test)"
   ]
  },
  {
   "cell_type": "code",
   "execution_count": 31,
   "metadata": {},
   "outputs": [
    {
     "data": {
      "text/plain": [
       "0.30133685396494697"
      ]
     },
     "execution_count": 31,
     "metadata": {},
     "output_type": "execute_result"
    }
   ],
   "source": [
    "log_loss(y_test, preds)"
   ]
  },
  {
   "cell_type": "code",
   "execution_count": 32,
   "metadata": {
    "collapsed": true
   },
   "outputs": [],
   "source": [
    "rfc_feat_importances = pd.DataFrame(sorted(zip(X.columns, rfc.feature_importances_), key=lambda x: x[1], reverse=True), \n",
    "                                   columns=['Feature Name', 'Level of Importance'])"
   ]
  },
  {
   "cell_type": "code",
   "execution_count": 33,
   "metadata": {},
   "outputs": [
    {
     "data": {
      "image/png": "[encoded data removed]",
      "text/plain": [
       "<matplotlib.figure.Figure at 0x1f55ac6c6a0>"
      ]
     },
     "metadata": {},
     "output_type": "display_data"
    }
   ],
   "source": [
    "sns.set_style('whitegrid')\n",
    "sns.set_palette(sns.color_palette(\"muted\", 10))\n",
    "rfc_feat_importances.plot(kind='bar', x='Feature Name', y='Level of Importance', \n",
    "                          figsize=(18, 6), title='Random Forest Feature Importance');"
   ]
  }
 ],
 "metadata": {
  "anaconda-cloud": {},
  "kernelspec": {
   "display_name": "Python [default]",
   "language": "python",
   "name": "python3"
  },
  "language_info": {
   "codemirror_mode": {
    "name": "ipython",
    "version": 3
   },
   "file_extension": ".py",
   "mimetype": "text/x-python",
   "name": "python",
   "nbconvert_exporter": "python",
   "pygments_lexer": "ipython3",
   "version": "3.5.2"
  }
 },
 "nbformat": 4,
 "nbformat_minor": 1
}
